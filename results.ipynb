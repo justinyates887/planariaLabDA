{
 "cells": [
  {
   "cell_type": "markdown",
   "id": "55786d85-5dd4-4fa2-a376-afd7171ba6ec",
   "metadata": {},
   "source": [
    "# Lab: Do planaria prefer a light or dark setting when given the choice?"
   ]
  },
  {
   "cell_type": "markdown",
   "id": "f06b06d3-e689-4126-881c-585b4287d170",
   "metadata": {},
   "source": [
    "Today, we are testing a hypothesis exploring behaviors in planaria when exposed to different levels of light. Our sample size was controlled at 10 planaria. We first set a control, dividing a pitri dish into two, even sides and exposed both sides to light. The results of the control were as follows:"
   ]
  },
  {
   "cell_type": "code",
   "execution_count": 75,
   "id": "5b8df30a-ee18-4b3b-9190-842714162cb3",
   "metadata": {},
   "outputs": [],
   "source": [
    "import pandas as pd\n",
    "import matplotlib.pyplot as plt"
   ]
  },
  {
   "cell_type": "code",
   "execution_count": 76,
   "id": "905f184b-c5e5-4a53-9b6a-b3fbd815f883",
   "metadata": {},
   "outputs": [],
   "source": [
    "data = pd.read_csv(r\"C:\\Users\\Associated Pools\\projects\\plantera_lab\\results.csv\").set_index('Group')"
   ]
  },
  {
   "cell_type": "code",
   "execution_count": 77,
   "id": "89b843e5-7d8f-4f06-94a1-af8926f9cabe",
   "metadata": {},
   "outputs": [
    {
     "data": {
      "text/html": [
       "<div>\n",
       "<style scoped>\n",
       "    .dataframe tbody tr th:only-of-type {\n",
       "        vertical-align: middle;\n",
       "    }\n",
       "\n",
       "    .dataframe tbody tr th {\n",
       "        vertical-align: top;\n",
       "    }\n",
       "\n",
       "    .dataframe thead th {\n",
       "        text-align: right;\n",
       "    }\n",
       "</style>\n",
       "<table border=\"1\" class=\"dataframe\">\n",
       "  <thead>\n",
       "    <tr style=\"text-align: right;\">\n",
       "      <th></th>\n",
       "      <th>controlALight</th>\n",
       "      <th>controlBLight</th>\n",
       "      <th>testALight</th>\n",
       "      <th>testBDark</th>\n",
       "    </tr>\n",
       "    <tr>\n",
       "      <th>Group</th>\n",
       "      <th></th>\n",
       "      <th></th>\n",
       "      <th></th>\n",
       "      <th></th>\n",
       "    </tr>\n",
       "  </thead>\n",
       "  <tbody>\n",
       "    <tr>\n",
       "      <th>1</th>\n",
       "      <td>6</td>\n",
       "      <td>4</td>\n",
       "      <td>3</td>\n",
       "      <td>7</td>\n",
       "    </tr>\n",
       "    <tr>\n",
       "      <th>2</th>\n",
       "      <td>2</td>\n",
       "      <td>8</td>\n",
       "      <td>3</td>\n",
       "      <td>7</td>\n",
       "    </tr>\n",
       "    <tr>\n",
       "      <th>3</th>\n",
       "      <td>5</td>\n",
       "      <td>5</td>\n",
       "      <td>1</td>\n",
       "      <td>9</td>\n",
       "    </tr>\n",
       "    <tr>\n",
       "      <th>4</th>\n",
       "      <td>5</td>\n",
       "      <td>5</td>\n",
       "      <td>3</td>\n",
       "      <td>7</td>\n",
       "    </tr>\n",
       "    <tr>\n",
       "      <th>5</th>\n",
       "      <td>6</td>\n",
       "      <td>4</td>\n",
       "      <td>1</td>\n",
       "      <td>9</td>\n",
       "    </tr>\n",
       "    <tr>\n",
       "      <th>6</th>\n",
       "      <td>8</td>\n",
       "      <td>2</td>\n",
       "      <td>2</td>\n",
       "      <td>8</td>\n",
       "    </tr>\n",
       "    <tr>\n",
       "      <th>7</th>\n",
       "      <td>1</td>\n",
       "      <td>9</td>\n",
       "      <td>0</td>\n",
       "      <td>10</td>\n",
       "    </tr>\n",
       "    <tr>\n",
       "      <th>8</th>\n",
       "      <td>4</td>\n",
       "      <td>6</td>\n",
       "      <td>2</td>\n",
       "      <td>8</td>\n",
       "    </tr>\n",
       "    <tr>\n",
       "      <th>9</th>\n",
       "      <td>4</td>\n",
       "      <td>6</td>\n",
       "      <td>4</td>\n",
       "      <td>6</td>\n",
       "    </tr>\n",
       "    <tr>\n",
       "      <th>10</th>\n",
       "      <td>4</td>\n",
       "      <td>6</td>\n",
       "      <td>3</td>\n",
       "      <td>7</td>\n",
       "    </tr>\n",
       "    <tr>\n",
       "      <th>11</th>\n",
       "      <td>5</td>\n",
       "      <td>5</td>\n",
       "      <td>5</td>\n",
       "      <td>5</td>\n",
       "    </tr>\n",
       "    <tr>\n",
       "      <th>12</th>\n",
       "      <td>3</td>\n",
       "      <td>7</td>\n",
       "      <td>0</td>\n",
       "      <td>10</td>\n",
       "    </tr>\n",
       "  </tbody>\n",
       "</table>\n",
       "</div>"
      ],
      "text/plain": [
       "       controlALight  controlBLight  testALight  testBDark\n",
       "Group                                                     \n",
       "1                  6              4           3          7\n",
       "2                  2              8           3          7\n",
       "3                  5              5           1          9\n",
       "4                  5              5           3          7\n",
       "5                  6              4           1          9\n",
       "6                  8              2           2          8\n",
       "7                  1              9           0         10\n",
       "8                  4              6           2          8\n",
       "9                  4              6           4          6\n",
       "10                 4              6           3          7\n",
       "11                 5              5           5          5\n",
       "12                 3              7           0         10"
      ]
     },
     "execution_count": 77,
     "metadata": {},
     "output_type": "execute_result"
    }
   ],
   "source": [
    "data"
   ]
  },
  {
   "cell_type": "code",
   "execution_count": 78,
   "id": "2fd1e8ae-875c-4589-b98d-c92b57ac9911",
   "metadata": {},
   "outputs": [
    {
     "data": {
      "text/plain": [
       "controlALight    4.416667\n",
       "controlBLight    5.583333\n",
       "dtype: float64"
      ]
     },
     "execution_count": 78,
     "metadata": {},
     "output_type": "execute_result"
    }
   ],
   "source": [
    "mean_control = data[['controlALight', 'controlBLight']].mean()\n",
    "mean_control"
   ]
  },
  {
   "cell_type": "code",
   "execution_count": 79,
   "id": "df586e0b-2a11-4b74-b446-a29aae4af96d",
   "metadata": {},
   "outputs": [
    {
     "data": {
      "text/plain": [
       "controlALight    53\n",
       "controlBLight    67\n",
       "dtype: int64"
      ]
     },
     "execution_count": 79,
     "metadata": {},
     "output_type": "execute_result"
    }
   ],
   "source": [
    "total_control = data[['controlALight', 'controlBLight']].sum()\n",
    "total_control"
   ]
  },
  {
   "cell_type": "markdown",
   "id": "6686fb2b-73d2-49a9-b0c8-dae8928d85ab",
   "metadata": {},
   "source": [
    "We can see, based on the totals and averages of the two control columns, that there was not a heavy preference for either side of the pitri dish. We can illustrate the deviation as such:"
   ]
  },
  {
   "cell_type": "code",
   "execution_count": 80,
   "id": "45ea7a52-749f-4e91-8741-78667cfbff10",
   "metadata": {},
   "outputs": [
    {
     "data": {
      "image/png": "[encoded data removed]",
      "text/plain": [
       "<Figure size 864x720 with 1 Axes>"
      ]
     },
     "metadata": {
      "needs_background": "light"
     },
     "output_type": "display_data"
    }
   ],
   "source": [
    "plt.figure(figsize=(12,10))\n",
    "plt.bar(total_control.index, total_control)\n",
    "plt.xticks(\n",
    "    rotation=45, \n",
    "    horizontalalignment='right',\n",
    "    fontweight='light',\n",
    "    fontsize='x-large'  \n",
    ")\n",
    "plt.grid(color='#95a5a6', linestyle='-', linewidth=1, axis='y', alpha=0.7)\n",
    "plt.xlabel('Side of Dish')\n",
    "plt.ylabel('Total Count per Side')\n",
    "plt.title('Control for Testing Which Light Level Planaria Prefer')\n",
    "plt.show()"
   ]
  },
  {
   "cell_type": "markdown",
   "id": "b57e0ee4-7553-4ce1-9a42-4cb3598e2e53",
   "metadata": {},
   "source": [
    "## Introducing the Independant Variable "
   ]
  },
  {
   "cell_type": "markdown",
   "id": "070f4d7f-8635-4313-b231-be5d157b4e16",
   "metadata": {},
   "source": [
    "Now that we have the control down, we can introduce the independent variable of light level in order to test our hypothesis and retrive our dependant variable. All areas of the test were replicated outside of the independant variable, and the results were as follows:"
   ]
  },
  {
   "cell_type": "code",
   "execution_count": 84,
   "id": "43a57e99-10cc-4d01-a4eb-7b2ef7fd9930",
   "metadata": {},
   "outputs": [
    {
     "data": {
      "text/html": [
       "<div>\n",
       "<style scoped>\n",
       "    .dataframe tbody tr th:only-of-type {\n",
       "        vertical-align: middle;\n",
       "    }\n",
       "\n",
       "    .dataframe tbody tr th {\n",
       "        vertical-align: top;\n",
       "    }\n",
       "\n",
       "    .dataframe thead th {\n",
       "        text-align: right;\n",
       "    }\n",
       "</style>\n",
       "<table border=\"1\" class=\"dataframe\">\n",
       "  <thead>\n",
       "    <tr style=\"text-align: right;\">\n",
       "      <th></th>\n",
       "      <th>testALight</th>\n",
       "      <th>testBDark</th>\n",
       "    </tr>\n",
       "    <tr>\n",
       "      <th>Group</th>\n",
       "      <th></th>\n",
       "      <th></th>\n",
       "    </tr>\n",
       "  </thead>\n",
       "  <tbody>\n",
       "    <tr>\n",
       "      <th>1</th>\n",
       "      <td>3</td>\n",
       "      <td>7</td>\n",
       "    </tr>\n",
       "    <tr>\n",
       "      <th>2</th>\n",
       "      <td>3</td>\n",
       "      <td>7</td>\n",
       "    </tr>\n",
       "    <tr>\n",
       "      <th>3</th>\n",
       "      <td>1</td>\n",
       "      <td>9</td>\n",
       "    </tr>\n",
       "    <tr>\n",
       "      <th>4</th>\n",
       "      <td>3</td>\n",
       "      <td>7</td>\n",
       "    </tr>\n",
       "    <tr>\n",
       "      <th>5</th>\n",
       "      <td>1</td>\n",
       "      <td>9</td>\n",
       "    </tr>\n",
       "    <tr>\n",
       "      <th>6</th>\n",
       "      <td>2</td>\n",
       "      <td>8</td>\n",
       "    </tr>\n",
       "    <tr>\n",
       "      <th>7</th>\n",
       "      <td>0</td>\n",
       "      <td>10</td>\n",
       "    </tr>\n",
       "    <tr>\n",
       "      <th>8</th>\n",
       "      <td>2</td>\n",
       "      <td>8</td>\n",
       "    </tr>\n",
       "    <tr>\n",
       "      <th>9</th>\n",
       "      <td>4</td>\n",
       "      <td>6</td>\n",
       "    </tr>\n",
       "    <tr>\n",
       "      <th>10</th>\n",
       "      <td>3</td>\n",
       "      <td>7</td>\n",
       "    </tr>\n",
       "    <tr>\n",
       "      <th>11</th>\n",
       "      <td>5</td>\n",
       "      <td>5</td>\n",
       "    </tr>\n",
       "    <tr>\n",
       "      <th>12</th>\n",
       "      <td>0</td>\n",
       "      <td>10</td>\n",
       "    </tr>\n",
       "  </tbody>\n",
       "</table>\n",
       "</div>"
      ],
      "text/plain": [
       "       testALight  testBDark\n",
       "Group                       \n",
       "1               3          7\n",
       "2               3          7\n",
       "3               1          9\n",
       "4               3          7\n",
       "5               1          9\n",
       "6               2          8\n",
       "7               0         10\n",
       "8               2          8\n",
       "9               4          6\n",
       "10              3          7\n",
       "11              5          5\n",
       "12              0         10"
      ]
     },
     "execution_count": 84,
     "metadata": {},
     "output_type": "execute_result"
    }
   ],
   "source": [
    "data[['testALight', 'testBDark']]"
   ]
  },
  {
   "cell_type": "code",
   "execution_count": 85,
   "id": "be123e76-9efd-4f12-8d1b-b17a5d1543ee",
   "metadata": {},
   "outputs": [
    {
     "data": {
      "text/plain": [
       "testALight    2.25\n",
       "testBDark     7.75\n",
       "dtype: float64"
      ]
     },
     "execution_count": 85,
     "metadata": {},
     "output_type": "execute_result"
    }
   ],
   "source": [
    "mean_test = data[['testALight', 'testBDark']].mean()\n",
    "mean_test"
   ]
  },
  {
   "cell_type": "code",
   "execution_count": 86,
   "id": "507c5e1b-c9d7-4b60-bbdf-10671a4f1f04",
   "metadata": {},
   "outputs": [
    {
     "data": {
      "text/plain": [
       "testALight    27\n",
       "testBDark     93\n",
       "dtype: int64"
      ]
     },
     "execution_count": 86,
     "metadata": {},
     "output_type": "execute_result"
    }
   ],
   "source": [
    "total_test = data[['testALight', 'testBDark']].sum()\n",
    "total_test"
   ]
  },
  {
   "cell_type": "markdown",
   "id": "8b3351c4-1841-4e95-8045-a7f23fa0549d",
   "metadata": {},
   "source": [
    "Just based on the figures, we can see a heavy preference for the dark side of the pitri dish, or side B. Let's illustrate this:"
   ]
  },
  {
   "cell_type": "code",
   "execution_count": 87,
   "id": "86939494-645d-43b4-a00d-915794d1b92c",
   "metadata": {},
   "outputs": [
    {
     "data": {
      "image/png": "[encoded data removed]",
      "text/plain": [
       "<Figure size 864x720 with 1 Axes>"
      ]
     },
     "metadata": {
      "needs_background": "light"
     },
     "output_type": "display_data"
    }
   ],
   "source": [
    "plt.figure(figsize=(12,10))\n",
    "plt.bar(total_test.index, total_test)\n",
    "plt.xticks(\n",
    "    rotation=45, \n",
    "    horizontalalignment='right',\n",
    "    fontweight='light',\n",
    "    fontsize='x-large'  \n",
    ")\n",
    "plt.grid(color='#95a5a6', linestyle='-', linewidth=1, axis='y', alpha=0.7)\n",
    "plt.xlabel('Side of Dish')\n",
    "plt.ylabel('Total Count per Side')\n",
    "plt.title('Testing Which Light Level Planaria Prefer')\n",
    "plt.show()"
   ]
  },
  {
   "cell_type": "markdown",
   "id": "d335e58d-b1a9-4494-8450-64c79741df5d",
   "metadata": {},
   "source": [
    "That's a big jump in collected data. We can now surmise that, based on these test, our hypothesis that planeria prefer lower light levels is supported. However, these results such as any others are not deemed factual, as more tests would be required to introduce this as a theory."
   ]
  },
  {
   "cell_type": "markdown",
   "id": "1de76de5-c96b-4c1a-98b0-8b3d20859a06",
   "metadata": {},
   "source": [
    "## Looking at the data side by side"
   ]
  },
  {
   "cell_type": "markdown",
   "id": "5a5ded6e-c9bf-46f9-85c8-59bb682781d3",
   "metadata": {},
   "source": [
    "It would be helpful to illustrate the data side by side, so we can easily tell the difference between the control and test:"
   ]
  },
  {
   "cell_type": "code",
   "execution_count": 88,
   "id": "1e172c03-3008-4aa9-a88b-966b0ca7e757",
   "metadata": {},
   "outputs": [
    {
     "data": {
      "image/png": "[encoded data removed]",
      "text/plain": [
       "<Figure size 864x720 with 1 Axes>"
      ]
     },
     "metadata": {
      "needs_background": "light"
     },
     "output_type": "display_data"
    }
   ],
   "source": [
    "total_sum = data[['controlALight', 'controlBLight', 'testALight', 'testBDark']].sum()\n",
    "c = ['#99bbee', '#99bbee', '#ff7373', '#ff7373']\n",
    "\n",
    "plt.figure(figsize=(12,10))\n",
    "plt.bar(data.columns.values, total_sum, color=c)\n",
    "plt.xticks(\n",
    "    fontweight='light',\n",
    "    fontsize='x-large'  \n",
    ")\n",
    "plt.grid(color='#95a5a6', linestyle='-', linewidth=1, axis='y', alpha=0.7)\n",
    "plt.xlabel('Side of Dish')\n",
    "plt.ylabel('Total Count per Side')\n",
    "plt.title('Testing Which Light Level Planaria Prefer')\n",
    "plt.show()"
   ]
  },
  {
   "cell_type": "markdown",
   "id": "a4ab0a15-2f1a-4e0b-ba34-d86d6d61460e",
   "metadata": {},
   "source": [
    "## Conculsion:"
   ]
  },
  {
   "cell_type": "markdown",
   "id": "152b56d2-9444-4735-a962-6c285808901d",
   "metadata": {},
   "source": [
    "After comparing the 12 different data sets for the control and test groups, and visualizing those results in a graph, we can see a clear trend when comparing the light level preferences in the test as compared to the controlled. As previously mentioned, the test results support our original hypothesis: Planaria will prefer lower light levels when given the choice."
   ]
  },
  {
   "cell_type": "code",
   "execution_count": null,
   "id": "23786792-9e3a-4442-bd6d-5251ef240ef8",
   "metadata": {},
   "outputs": [],
   "source": []
  }
 ],
 "metadata": {
  "kernelspec": {
   "display_name": "Python 3 (ipykernel)",
   "language": "python",
   "name": "python3"
  },
  "language_info": {
   "codemirror_mode": {
    "name": "ipython",
    "version": 3
   },
   "file_extension": ".py",
   "mimetype": "text/x-python",
   "name": "python",
   "nbconvert_exporter": "python",
   "pygments_lexer": "ipython3",
   "version": "3.9.4"
  }
 },
 "nbformat": 4,
 "nbformat_minor": 5
}
